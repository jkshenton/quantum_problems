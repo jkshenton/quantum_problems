{
 "cells": [
  {
   "cell_type": "markdown",
   "metadata": {
    "collapsed": true
   },
   "source": [
    "# Problem Sheet 1"
   ]
  },
  {
   "cell_type": "markdown",
   "metadata": {
    "collapsed": true
   },
   "source": [
    "## Problem 1"
   ]
  },
  {
   "cell_type": "markdown",
   "metadata": {
    "collapsed": true
   },
   "source": [
    "\n",
    "\n",
    "The quantum state $\\rho$ of a single qubit can be represented as a three-dimensional real vector $\\bf{r}$ in the so called Bloch sphere, according to\n",
    "\n",
    "$$\\rho = \\frac{1}{2} (\\Bbb{I}\n",
    " + \\mathbf{r \\cdot \\sigma}) = \\frac{1}{2} (\\Bbb{I}\n",
    " + r_x\\sigma_x + r_y\\sigma_y + r_z\\sigma_z),$$\n",
    "with $|\\mathbf{r}| \\leq 1$.\n",
    "\n",
    "a) Show that pure states are represented by vectors at the surface of the Bloch sphere. [3 marks]\n",
    "\n",
    "b) Calculate the von Neumann entropy of a state of a single qubit as a function of its Bloch vector $\\mathbf{r}.$ [3 marks]\n",
    "\n",
    "c) Hence, determine the state of maximal entropy. Where does it lie in the Bloch sphere picture?"
   ]
  },
  {
   "cell_type": "markdown",
   "metadata": {},
   "source": [
    "### Solution 1a."
   ]
  },
  {
   "cell_type": "code",
   "execution_count": 23,
   "metadata": {
    "collapsed": false
   },
   "outputs": [],
   "source": [
    "import numpy as np\n",
    "from sympy import *\n",
    "\n",
    "# Define the Pauli matrices:\n",
    "sx = Matrix([[0,1],[1,0]])\n",
    "sy = Matrix([[0,-I],[I,0]])\n",
    "sz = Matrix([[1,0],[0,-1]])\n",
    "\n",
    "rx = symbols('r_x')\n",
    "ry = symbols('r_y')\n",
    "rz = symbols('r_z')\n",
    "\n",
    "init_printing(use_latex='mathjax')\n"
   ]
  },
  {
   "cell_type": "markdown",
   "metadata": {},
   "source": [
    "Our quantum state, $\\rho$, in matrix form, is:"
   ]
  },
  {
   "cell_type": "code",
   "execution_count": 11,
   "metadata": {
    "collapsed": false
   },
   "outputs": [
    {
     "data": {
      "text/latex": [
       "$$\\left[\\begin{matrix}\\frac{1}{2} \\left(r_{z} + 1\\right) & - \\frac{1}{2} \\left(- r_{x} + i r_{y}\\right)\\\\\\frac{1}{2} \\left(r_{x} + i r_{y}\\right) & - \\frac{1}{2} \\left(r_{z} - 1\\right)\\end{matrix}\\right]$$"
      ],
      "text/plain": [
       "⎡ r_z + 1    -(-rₓ + ⅈ⋅r_y) ⎤\n",
       "⎢ ───────    ───────────────⎥\n",
       "⎢    2              2       ⎥\n",
       "⎢                           ⎥\n",
       "⎢rₓ + ⅈ⋅r_y    -(r_z - 1)   ⎥\n",
       "⎢──────────    ───────────  ⎥\n",
       "⎣    2              2       ⎦"
      ]
     },
     "execution_count": 11,
     "metadata": {},
     "output_type": "execute_result"
    }
   ],
   "source": [
    "rho  = (eye(2) + rx*sx + ry*sy + rz*sz)/2\n",
    "factor(rho)"
   ]
  },
  {
   "cell_type": "markdown",
   "metadata": {},
   "source": [
    "For the sake of clarity let us define $2\\rho$:"
   ]
  },
  {
   "cell_type": "code",
   "execution_count": 12,
   "metadata": {
    "collapsed": false
   },
   "outputs": [
    {
     "data": {
      "text/latex": [
       "$$\\left[\\begin{matrix}r_{z} + 1 & r_{x} - i r_{y}\\\\r_{x} + i r_{y} & - r_{z} + 1\\end{matrix}\\right]$$"
      ],
      "text/plain": [
       "⎡ r_z + 1    rₓ - ⅈ⋅r_y⎤\n",
       "⎢                      ⎥\n",
       "⎣rₓ + ⅈ⋅r_y   -r_z + 1 ⎦"
      ]
     },
     "execution_count": 12,
     "metadata": {},
     "output_type": "execute_result"
    }
   ],
   "source": [
    "two_rho  = rho*2\n",
    "two_rho"
   ]
  },
  {
   "cell_type": "markdown",
   "metadata": {
    "collapsed": false
   },
   "source": [
    "Now recall that $\\rho^2 = \\rho$ in the case of a pure state."
   ]
  },
  {
   "cell_type": "code",
   "execution_count": 22,
   "metadata": {
    "collapsed": false
   },
   "outputs": [
    {
     "data": {
      "text/latex": [
       "$$\\left[\\begin{matrix}\\frac{1}{4} \\left(r_{x}^{2} + r_{y}^{2} + r_{z}^{2} + 2 r_{z} + 1\\right) & - \\frac{1}{2} \\left(- r_{x} + i r_{y}\\right)\\\\\\frac{1}{2} \\left(r_{x} + i r_{y}\\right) & \\frac{1}{4} \\left(r_{x}^{2} + r_{y}^{2} + r_{z}^{2} - 2 r_{z} + 1\\right)\\end{matrix}\\right]$$"
      ],
      "text/plain": [
       "⎡  2      2      2                                           ⎤\n",
       "⎢rₓ  + r_y  + r_z  + 2⋅r_z + 1         -(-rₓ + ⅈ⋅r_y)        ⎥\n",
       "⎢─────────────────────────────         ───────────────       ⎥\n",
       "⎢              4                              2              ⎥\n",
       "⎢                                                            ⎥\n",
       "⎢                                 2      2      2            ⎥\n",
       "⎢         rₓ + ⅈ⋅r_y            rₓ  + r_y  + r_z  - 2⋅r_z + 1⎥\n",
       "⎢         ──────────            ─────────────────────────────⎥\n",
       "⎣             2                               4              ⎦"
      ]
     },
     "execution_count": 22,
     "metadata": {},
     "output_type": "execute_result"
    }
   ],
   "source": [
    "rho_sqrd = rho*rho\n",
    "factor(expand(rho_sqrd))"
   ]
  },
  {
   "cell_type": "markdown",
   "metadata": {
    "collapsed": false
   },
   "source": [
    "Now if $\\rho^2 = \\rho$ is to be satisfied, then:\n",
    "$$\\frac{1}{4}(r_x^2 + r_y^2 + r_z^2 + 2r_z + 1) = \\frac{1}{2}(r_z + 1)\\\\\n",
    "\\frac{1}{2}(r_x^2 + r_y^2 + r_z^2  + 1) = 1 \\\\\n",
    "=> r_x^2 + r_y^2 + r_z^2  = 1\n",
    "$$\n",
    "\n",
    "i.e. it must be the case that $|\\mathbf{r}|=1$, which clearly designates the points on the surface of a sphere."
   ]
  },
  {
   "cell_type": "markdown",
   "metadata": {},
   "source": [
    "### Solution 1b."
   ]
  },
  {
   "cell_type": "markdown",
   "metadata": {},
   "source": [
    "The von Neumann entropy, $S$,  of a state, $\\rho$, is given by:\n",
    "\n",
    "$S(\\rho) = -Tr[\\rho \\log_2 (\\rho)]$\n",
    "\n",
    "Now we know that $\\rho$ is a positive semi-definite matrix, and as such can be expressed as:\n",
    "\n",
    "$\\rho = \\sum_i \\lambda_i |\\phi_i><\\phi_i|$\n",
    "\n",
    "and we can express $S$ in terms of the eigenvalues, $\\lambda_i$ of $\\rho$:\n",
    "\n",
    "$S = -\\sum_i \\lambda_i \\log_2 \\lambda_i$.\n",
    "\n",
    "To obtain the eigenvalues of $\\rho$, we need to solve the characteristic polynomial:\n",
    "\n",
    "$\\lambda_i^2 = \\lambda_i + \\frac{1-|\\bf{r}|^2}{4}$\n",
    "\n",
    "Or.... we can just use sympy's eigenvals method:"
   ]
  },
  {
   "cell_type": "code",
   "execution_count": 45,
   "metadata": {
    "collapsed": false
   },
   "outputs": [
    {
     "data": {
      "text/latex": [
       "$$\\left [ \\frac{1}{2} \\left(\\sqrt{r_{x}^{2} + r_{y}^{2} + r_{z}^{2}} + 1\\right), \\quad - \\frac{1}{2} \\left(\\sqrt{r_{x}^{2} + r_{y}^{2} + r_{z}^{2}} - 1\\right)\\right ]$$"
      ],
      "text/plain": [
       "⎡   ___________________       ⎛   ___________________    ⎞ ⎤\n",
       "⎢  ╱   2      2      2        ⎜  ╱   2      2      2     ⎟ ⎥\n",
       "⎢╲╱  rₓ  + r_y  + r_z   + 1  -⎝╲╱  rₓ  + r_y  + r_z   - 1⎠ ⎥\n",
       "⎢──────────────────────────, ──────────────────────────────⎥\n",
       "⎣            2                             2               ⎦"
      ]
     },
     "execution_count": 45,
     "metadata": {},
     "output_type": "execute_result"
    }
   ],
   "source": [
    "lambdas = factor(rho.eigenvals().keys())\n",
    "lambdas"
   ]
  },
  {
   "cell_type": "markdown",
   "metadata": {},
   "source": [
    "And so we can express $S$ as:"
   ]
  },
  {
   "cell_type": "code",
   "execution_count": 54,
   "metadata": {
    "collapsed": false
   },
   "outputs": [
    {
     "data": {
      "text/latex": [
       "$$- \\frac{1}{2 \\log{\\left (2 \\right )}} \\left(\\sqrt{r_{x}^{2} + r_{y}^{2} + r_{z}^{2}} - 1\\right) \\log{\\left (- \\frac{1}{2} \\left(\\sqrt{r_{x}^{2} + r_{y}^{2} + r_{z}^{2}} - 1\\right) \\right )} + \\frac{1}{2 \\log{\\left (2 \\right )}} \\left(\\sqrt{r_{x}^{2} + r_{y}^{2} + r_{z}^{2}} + 1\\right) \\log{\\left (\\frac{1}{2} \\left(\\sqrt{r_{x}^{2} + r_{y}^{2} + r_{z}^{2}} + 1\\right) \\right )}$$"
      ],
      "text/plain": [
       "                                  ⎛ ⎛   ___________________    ⎞ ⎞            \n",
       "  ⎛   ___________________    ⎞    ⎜ ⎜  ╱   2      2      2     ⎟ ⎟   ⎛   _____\n",
       "  ⎜  ╱   2      2      2     ⎟    ⎜-⎝╲╱  rₓ  + r_y  + r_z   - 1⎠ ⎟   ⎜  ╱   2 \n",
       "  ⎝╲╱  rₓ  + r_y  + r_z   - 1⎠⋅log⎜──────────────────────────────⎟   ⎝╲╱  rₓ  \n",
       "                                  ⎝              2               ⎠            \n",
       "- ──────────────────────────────────────────────────────────────── + ─────────\n",
       "                              2⋅log(2)                                        \n",
       "\n",
       "                       ⎛   ___________________    ⎞\n",
       "______________    ⎞    ⎜  ╱   2      2      2     ⎟\n",
       "     2      2     ⎟    ⎜╲╱  rₓ  + r_y  + r_z   + 1⎟\n",
       "+ r_y  + r_z   + 1⎠⋅log⎜──────────────────────────⎟\n",
       "                       ⎝            2             ⎠\n",
       "───────────────────────────────────────────────────\n",
       "                 2⋅log(2)                          "
      ]
     },
     "execution_count": 54,
     "metadata": {},
     "output_type": "execute_result"
    }
   ],
   "source": [
    "S = lambdas[0]*log(lambdas[0], 2) + lambdas[1]*log(lambdas[1], 2)\n",
    "S"
   ]
  },
  {
   "cell_type": "markdown",
   "metadata": {},
   "source": [
    "Except that's not really well simplified - let's manually simplify it:\n",
    "\n",
    "$$S =-\\frac{1-|\\boldsymbol{r}|}{2}\\log_2(\\frac{1-|\\boldsymbol{r}|}{2})\n",
    "     -\\frac{1+|\\boldsymbol{r}|}{2}\\log_2(\\frac{1+|\\boldsymbol{r}|}{2})$$\n"
   ]
  },
  {
   "cell_type": "markdown",
   "metadata": {},
   "source": [
    "### Solution 1c."
   ]
  },
  {
   "cell_type": "markdown",
   "metadata": {},
   "source": [
    "In order to find the maximum in entropy, we must the $|\\boldsymbol{r}|$ for which $\\frac{dS}{d|\\bf{r}|}$ is zero."
   ]
  },
  {
   "cell_type": "markdown",
   "metadata": {},
   "source": [
    "Putting our simplified S into sympy:"
   ]
  },
  {
   "cell_type": "code",
   "execution_count": 64,
   "metadata": {
    "collapsed": false
   },
   "outputs": [
    {
     "data": {
      "text/latex": [
       "$$- \\frac{\\log{\\left (- \\frac{|r|}{2} + \\frac{1}{2} \\right )}}{2 \\log{\\left (2 \\right )}} \\left(- |r| + 1\\right) - \\frac{\\left(|r| + 1\\right) \\log{\\left (\\frac{|r|}{2} + \\frac{1}{2} \\right )}}{2 \\log{\\left (2 \\right )}}$$"
      ],
      "text/plain": [
       "                ⎛  |r|   1⎞                ⎛|r|   1⎞\n",
       "  (-|r| + 1)⋅log⎜- ─── + ─⎟   (|r| + 1)⋅log⎜─── + ─⎟\n",
       "                ⎝   2    2⎠                ⎝ 2    2⎠\n",
       "- ───────────────────────── - ──────────────────────\n",
       "           2⋅log(2)                  2⋅log(2)       "
      ]
     },
     "execution_count": 64,
     "metadata": {},
     "output_type": "execute_result"
    }
   ],
   "source": [
    "rmod = symbols(\"|r|\")\n",
    "S = -((1-rmod)*log((1-rmod)/2, 2)+(1+rmod)*log((1+rmod)/2, 2))/2\n",
    "S"
   ]
  },
  {
   "cell_type": "markdown",
   "metadata": {},
   "source": [
    "we get that \n",
    "$\\frac{dS}{d|\\boldsymbol{r}|}  $\n",
    "is:"
   ]
  },
  {
   "cell_type": "code",
   "execution_count": 69,
   "metadata": {
    "collapsed": false
   },
   "outputs": [
    {
     "data": {
      "text/latex": [
       "$$\\frac{1}{2 \\log{\\left (2 \\right )}} \\left(\\log{\\left (- |r| + 1 \\right )} - \\log{\\left (|r| + 1 \\right )}\\right)$$"
      ],
      "text/plain": [
       "log(-|r| + 1) - log(|r| + 1)\n",
       "────────────────────────────\n",
       "          2⋅log(2)          "
      ]
     },
     "execution_count": 69,
     "metadata": {},
     "output_type": "execute_result"
    }
   ],
   "source": [
    "simplify(factor(diff(S, rmod)))"
   ]
  },
  {
   "cell_type": "markdown",
   "metadata": {},
   "source": [
    "Sympy did pretty well, but we can simplify this even more using the log rule:\n",
    "$$\\log_a(\\frac{x}{y}) = \\log_a(x) - \\log_a(y)$$\n",
    "\n",
    "Thus \n",
    "$$\\frac{dS}{d|\\boldsymbol{r}|} = \\frac{1}{2}\\log_2(\\frac{1-|\\boldsymbol{r}|}{1+|\\boldsymbol{r}|}) $$\n",
    "Now since we know that $|\\boldsymbol{r}|\\leq 1$, the argument of the log must be between 0 and 1 and hence $\\frac{dS}{d|\\boldsymbol{r}|}\\leq0$.\n",
    "\n",
    "In other words, $S$ has a negative slope (w.r.t $|\\boldsymbol{r}|$) for all $|\\boldsymbol{r}|$ except for $|\\boldsymbol{r}|=0$, in which case the slope is 0.\n",
    "That is to say, $S$ is maximised at $|\\boldsymbol{r}|=0$ (at the centre of the BLoch sphere."
   ]
  },
  {
   "cell_type": "code",
   "execution_count": null,
   "metadata": {
    "collapsed": true
   },
   "outputs": [],
   "source": []
  },
  {
   "cell_type": "code",
   "execution_count": null,
   "metadata": {
    "collapsed": true
   },
   "outputs": [],
   "source": []
  },
  {
   "cell_type": "markdown",
   "metadata": {},
   "source": [
    "## Problem 2."
   ]
  },
  {
   "cell_type": "markdown",
   "metadata": {},
   "source": [
    "Alice and Bob share the following pure two-qubit state:\n",
    "\n",
    "$$\n",
    "\\begin{align}\n",
    "\\vert\\psi\\rangle = \n",
    "  \\frac{1}{5} \\vert00\\rangle\n",
    "+i\\frac{2\\sqrt{2}}{5} \\vert01\\rangle \n",
    "- \\frac{4}{15} \\vert10\\rangle \n",
    "-i\\frac{8\\sqrt{2}}{15} \\vert11\\rangle\n",
    "\\end{align}\n",
    "$$\n",
    "\n",
    "Determine whether $\\vert\\psi\\rangle$ is entangled or separable. [5 marks]"
   ]
  },
  {
   "cell_type": "markdown",
   "metadata": {
    "collapsed": true
   },
   "source": [
    "---\n",
    "### Simple solution"
   ]
  },
  {
   "cell_type": "markdown",
   "metadata": {},
   "source": [
    "We say that $\\vert\\psi_{AB}\\rangle$ is separable (i.e. not entangled) if it can be written as a product:\n",
    "$\\vert\\psi_{AB}\\rangle = \\vert\\psi_A\\rangle \\otimes \\vert\\psi_B\\rangle$\n",
    "\n",
    "Now by inspection and playing around with coefficients, we can see that $\\vert\\psi \\rangle$ can be written as a product state:\n",
    "$$\n",
    "\\vert\\psi\\rangle = \\frac{1}{15}\n",
    "                    \\Big[  \n",
    "                          \\big( 3 \\vert0\\rangle_A -4 \\vert1\\rangle_A \\big)\n",
    "                          \\otimes\n",
    "                          \\big(   \\vert0\\rangle_B +2\\sqrt{2}i \\vert1\\rangle_B \\big)\n",
    "                    \\Big]\n",
    "$$\n",
    "Thus we can say that $\\vert\\psi\\rangle$ is separable. "
   ]
  },
  {
   "cell_type": "markdown",
   "metadata": {},
   "source": [
    "### General solution"
   ]
  },
  {
   "cell_type": "markdown",
   "metadata": {},
   "source": [
    "However, in general it would not be so easy to factorise a bipartite state and so we now show the general approach to such finding out if a state is entangled or not.\n",
    "\n",
    "A state $\\rho = \\vert\\psi_{AB}\\rangle \\langle\\psi_{AB}\\vert$ is entangled, iff the reduced density matrix \n",
    "$$\\rho_A = Tr_B[\\vert\\psi_{AB}\\rangle \\langle\\psi_{AB}\\vert],$$\n",
    "is a mixed state.\n",
    "\n",
    "i.e. iff $\\rho_A^2 \\neq \\rho_A $ then $\\rho$ is entangled"
   ]
  },
  {
   "cell_type": "markdown",
   "metadata": {},
   "source": [
    "$$\n",
    "\\rho = \n",
    "        ( \\frac{1}{5} \\vert00\\rangle\n",
    "        +i\\frac{2\\sqrt{2}}{5} \\vert01\\rangle \n",
    "        - \\frac{4}{15} \\vert10\\rangle \n",
    "        -i\\frac{8\\sqrt{2}}{15} \\vert11\\rangle)\\,\n",
    "        ( \\frac{1}{5} \\langle 00 \\vert\n",
    "        -i\\frac{2\\sqrt{2}}{5} \\langle 01 \\vert \n",
    "        - \\frac{4}{15} \\langle 10 \\vert \n",
    "        +i\\frac{8\\sqrt{2}}{15} \\langle 11 \\vert)\n",
    "        \\\\\n",
    " =     \\frac{1}{25}\n",
    "         (                    \\vert 00 \\rangle\n",
    "        + 2i\\sqrt{2}          \\vert 01 \\rangle \n",
    "        - \\frac{4}{3}         \\vert 10 \\rangle \n",
    "        -i\\frac{8\\sqrt{2}}{3} \\vert 11 \\rangle)\n",
    "        (                     \\langle 00 \\vert\n",
    "        - 2i\\sqrt{2}          \\langle 01 \\vert \n",
    "        - \\frac{4}{3}         \\langle 10 \\vert \n",
    "        +i\\frac{8\\sqrt{2}}{3} \\langle 11 \\vert)\n",
    "$$"
   ]
  },
  {
   "cell_type": "markdown",
   "metadata": {},
   "source": [
    "$$\n",
    "\\rho =  \\frac{1}{25}\n",
    "         (                    \\vert 00 \\rangle)\n",
    "             (\\langle 00 \\vert - 2i\\sqrt{2} \\langle 01 \\vert   - \\frac{4}{3} \\langle 10 \\vert  +i\\frac{8\\sqrt{2}}{3} \\langle 11 \\vert)\\\\\n",
    "         (+ 2i\\sqrt{2}          \\vert 01 \\rangle)\n",
    "             (\\langle 00 \\vert - 2i\\sqrt{2} \\langle 01 \\vert   - \\frac{4}{3} \\langle 10 \\vert  +i\\frac{8\\sqrt{2}}{3} \\langle 11 \\vert)\\\\\n",
    "         (- \\frac{4}{3}         \\vert 10 \\rangle)\n",
    "             (\\langle 00 \\vert - 2i\\sqrt{2} \\langle 01 \\vert   - \\frac{4}{3} \\langle 10 \\vert  +i\\frac{8\\sqrt{2}}{3} \\langle 11 \\vert)\\\\\n",
    "         (-i\\frac{8\\sqrt{2}}{3} \\vert 11 \\rangle)\n",
    "            (\\langle 00 \\vert - 2i\\sqrt{2} \\langle 01 \\vert   - \\frac{4}{3} \\langle 10 \\vert  +i\\frac{8\\sqrt{2}}{3} \\langle 11 \\vert)\n",
    "$$"
   ]
  },
  {
   "cell_type": "markdown",
   "metadata": {},
   "source": [
    "Now we take the partial trace over B to get $\\rho_A$:\n",
    "\n",
    "$$\n",
    "\\rho_A = \\sum_{j=0}^1 \\langle j \\vert_B \\,\\rho\\, \\vert j \\rangle_B\n",
    "$$"
   ]
  },
  {
   "cell_type": "markdown",
   "metadata": {},
   "source": [
    "By inspection, the following terms survive (using the orthonormality of the states):\n",
    "\n",
    "$$\n",
    "\\begin{align}\n",
    "\\rho_A = \\frac{1}{25}\n",
    "         (\n",
    "                            \\vert 0 \\rangle \\langle 0 \\vert - \\frac{4}{3}   \\vert 0 \\rangle \\langle 1 \\vert\n",
    "             - \\frac{4}{3}  \\vert 1 \\rangle \\langle 0 \\vert + \\frac{16}{9}  \\vert 1 \\rangle \\langle 1 \\vert\n",
    "             + 8            \\vert 0 \\rangle \\langle 0 \\vert - \\frac{32}{3}  \\vert 0 \\rangle \\langle 1 \\vert\n",
    "             - \\frac{32}{3} \\vert 1 \\rangle \\langle 0 \\vert + \\frac{128}{9} \\vert 1 \\rangle \\langle 1 \\vert\n",
    "         )\n",
    "\\end{align}\n",
    "$$\n",
    "\n"
   ]
  },
  {
   "cell_type": "markdown",
   "metadata": {},
   "source": [
    "Grouping similar terms and simplifying, this becomes:\n",
    "\n",
    "$$\n",
    "\\rho_A = \\frac{1}{25}\n",
    "         (\n",
    "               9  \\vert 0 \\rangle \\langle 0 \\vert - 12 \\vert 0 \\rangle \\langle 1 \\vert\n",
    "             - 12 \\vert 1 \\rangle \\langle 0 \\vert + 16 \\vert 1 \\rangle \\langle 1 \\vert                                  \n",
    "         )\n",
    "$$"
   ]
  },
  {
   "cell_type": "markdown",
   "metadata": {},
   "source": [
    "Now we can finally check if the reduced state $\\rho_A$ is a pure or mixed states by finding $\\rho_A^2$:\n",
    "\n",
    "$$\n",
    "\\begin{align}\n",
    "\\rho_A^2 =& \\frac{1}{625}\n",
    "         (81  \\vert 0 \\rangle \\langle 0 \\vert - 108 \\vert 0 \\rangle \\langle 1 \\vert\\\\\n",
    "          &     +144 \\vert 0 \\rangle \\langle 0 \\vert - 192 \\vert 0 \\rangle \\langle 1 \\vert\\\\\n",
    "          &    - 108 \\vert 1 \\rangle \\langle 0 \\vert + 144 \\vert 1 \\rangle \\langle 1 \\vert   \\\\                               \n",
    "          &    - 192 \\vert 1 \\rangle \\langle 0 \\vert + 256 \\vert 1 \\rangle \\langle 1 \\vert)\n",
    "\\end{align}\n",
    "$$\n"
   ]
  },
  {
   "cell_type": "markdown",
   "metadata": {},
   "source": [
    "$$\n",
    "\\begin{align}\n",
    "\\rho_A^2 &= \\frac{1}{625}\n",
    "         (\n",
    "               225  \\vert 0 \\rangle \\langle 0 \\vert - 300 \\vert 0 \\rangle \\langle 1 \\vert\n",
    "             - 300 \\vert 1 \\rangle \\langle 0 \\vert + 400 \\vert 1 \\rangle \\langle 1 \\vert                                  \n",
    "         )\\\\\n",
    "         &= \\frac{1}{25}\n",
    "         (\n",
    "               9  \\vert 0 \\rangle \\langle 0 \\vert - 12 \\vert 0 \\rangle \\langle 1 \\vert\n",
    "             - 12 \\vert 1 \\rangle \\langle 0 \\vert + 16 \\vert 1 \\rangle \\langle 1 \\vert                                  \n",
    "         )\\\\\n",
    "         &= \\rho_A\n",
    "\\end{align}\n",
    "$$\n",
    "\n",
    "Since $\\rho_A^2 = \\rho_A$, we can conclude that $\\rho_A$ is a pure state. Therefore the bipartite state, $\\rho$, was not entangled."
   ]
  },
  {
   "cell_type": "markdown",
   "metadata": {},
   "source": [
    "TODO: cast in terms of matrices and solve"
   ]
  },
  {
   "cell_type": "code",
   "execution_count": 1,
   "metadata": {
    "collapsed": true
   },
   "outputs": [],
   "source": [
    "from sympy.physics.quantum import qubit"
   ]
  },
  {
   "cell_type": "code",
   "execution_count": 3,
   "metadata": {
    "collapsed": false
   },
   "outputs": [],
   "source": [
    "q1 = qubit.Qubit(0)"
   ]
  },
  {
   "cell_type": "code",
   "execution_count": null,
   "metadata": {
    "collapsed": true
   },
   "outputs": [],
   "source": []
  },
  {
   "cell_type": "markdown",
   "metadata": {},
   "source": [
    "## Problem 3."
   ]
  },
  {
   "cell_type": "markdown",
   "metadata": {},
   "source": [
    "Alice, Bob and Charlie share the following “Greenberger-Horne-Zeilinger”\n",
    "three-partite state:\n",
    "\n",
    "$$\n",
    "\\begin{align}\n",
    "\\vert GHZ\\rangle = \n",
    "  \\frac{1}{\\sqrt{2}} \\vert000\\rangle\n",
    "+ \\frac{1}{\\sqrt{2}} \\vert111\\rangle \n",
    "\\end{align}\n",
    "$$\n",
    "\n",
    "a) Evaluate the reduced density matrix of Charlie’s system (the third qubit) and determine whether such a system is entangled with Alice and Bob’s composite system (the first and second qubits). Evaluate the von Neumann entropy of Charlie’s state.\n",
    "\n",
    "b) Determine the reduced density matrix of the composite two-qubit system shared by Alice and Bob, and evaluate its von Neumann entropy.\n"
   ]
  },
  {
   "cell_type": "markdown",
   "metadata": {
    "collapsed": true
   },
   "source": [
    "### Solution 3a."
   ]
  },
  {
   "cell_type": "markdown",
   "metadata": {
    "collapsed": true
   },
   "source": [
    "Let $\\rho = \\vert GHZ\\rangle \\langle GHZ \\vert $, and the reduced density matrix of Charlie's system be $\\rho_C$.\n",
    "\n",
    "To obtain $\\rho_C$, we must trace out Alice and Bob's systems like this:\n",
    "\n",
    "$$\n",
    "\\begin{align}\n",
    "\\rho_C &= Tr_{AB}[\\rho]\\\\\n",
    "       &= Tr_{AB}[\\vert GHZ\\rangle \\langle GHZ \\vert]\\\\\n",
    "       &= Tr_{AB}\\big[ \\frac{1}{2} (\\vert000\\rangle + \\vert111\\rangle)(\\langle 000 \\vert + \\langle 111 \\vert)\\big]\\\\\n",
    "       &=\\sum_{j,k=0}^1 \\langle jk\\vert_{AB}\n",
    "       \\big[ \\frac{1}{2} (\\vert000\\rangle + \\vert111\\rangle)(\\langle 000 \\vert + \\langle 111 \\vert)\\big]\n",
    "       \\vert jk\\rangle_{AB} \\\\\n",
    "       &=\\frac{1}{2} (\\vert0\\rangle \\langle 0 \\vert + \\vert1\\rangle \\langle 1 \\vert)\n",
    "\\end{align}\n",
    "$$"
   ]
  },
  {
   "cell_type": "markdown",
   "metadata": {},
   "source": [
    "Now $\\rho_C$ looks to be a mixed state. Let's confirm that by checking that $\\rho_C^2 \\neq \\rho_C $:\n",
    "$$\n",
    "\\begin{align}\n",
    "\\rho_C^2 &= \\frac{1}{4} \\big((\\vert0\\rangle \\langle 0 \\vert + \\vert1\\rangle \\langle 1 \\vert)\\,\n",
    "                             (\\vert0\\rangle \\langle 0 \\vert + \\vert1\\rangle \\langle 1 \\vert)\\big)\\\\\n",
    "         &= \\frac{1}{4} \\big( (\\vert0\\rangle \\langle 0 \\vert + \\vert1\\rangle \\langle 1 \\vert)\\,\n",
    "         \\big)\\\\\n",
    "         &= \\frac{1}{2} \\rho_C\n",
    "\\end{align}\n",
    "$$\n",
    "\n",
    "Since $\\rho_C$ is a mixed state, Charlie's system must have been entangled with Alice and Bob's. "
   ]
  },
  {
   "cell_type": "markdown",
   "metadata": {},
   "source": [
    "The von Neumann entropy associated with Charlie's system is:\n",
    "$S_C = -\\sum_i \\lambda_i \\log_2 \\lambda_i$, where $\\lambda_i$ are the eigenvalues of $\\rho_C$.\n",
    "Now since $\\rho_C$ is already in diagonal form, i.e.\n",
    "\n",
    "$$\n",
    "\\rho_C = \\frac{1}{2}\n",
    "\\begin{bmatrix}\n",
    "      1 & 0\\\\\n",
    "      0 & 1\n",
    "\\end{bmatrix}\n",
    "$$\n",
    "\n",
    "it's clear that the it has doubly degenerate eigenvalues: $1/2$.\n",
    "\n",
    "Therefore \n",
    "\n",
    "$$\n",
    "\\begin{align}\n",
    "S_C &= -\\frac{1}{2} \\log_2 (\\frac{1}{2}) - \\frac{1}{2} \\log_2 (\\frac{1}{2})\\\\\n",
    "  &=  \\frac{1}{2} + \\frac{1}{2}\\\\\n",
    "  &= 1\n",
    "\\end{align}\n",
    " $$"
   ]
  },
  {
   "cell_type": "markdown",
   "metadata": {},
   "source": [
    "### Solution 3b."
   ]
  },
  {
   "cell_type": "markdown",
   "metadata": {
    "collapsed": true
   },
   "source": [
    "Let the reduced density matrix of Alice and Bob's two-qubit system be $\\rho_{AB}$.\n",
    "\n",
    "To obtain $\\rho_{AB}$, we must trace out Charlie's system like this:\n",
    "\n",
    "$$\n",
    "\\begin{align}\n",
    "\\rho_{AB} &= Tr_{C}[\\rho]\\\\\n",
    "          &= Tr_{C}[\\vert GHZ\\rangle \\langle GHZ \\vert]\\\\\n",
    "          &= Tr_{C}\\big[ \\frac{1}{2} (\\vert000\\rangle + \\vert111\\rangle)(\\langle 000 \\vert + \\langle 111 \\vert)\\big]\\\\\n",
    "          &=\\sum_{j=0}^1 \\langle j\\vert_{C}\n",
    "          \\big[ \\frac{1}{2} (\\vert000\\rangle + \\vert111\\rangle)(\\langle 000 \\vert + \\langle 111 \\vert)\\big]\n",
    "          \\vert j\\rangle_{C} \\\\\n",
    "          &=\\frac{1}{2} (\\vert 00\\rangle \\langle 00 \\vert + \\vert 11\\rangle \\langle 11 \\vert)\n",
    "\\end{align}\n",
    "$$"
   ]
  },
  {
   "cell_type": "markdown",
   "metadata": {},
   "source": [
    "Writing $\\rho_{AB}$ in matrix form, we see that is it diagonal:\n",
    "\n",
    "$$\\rho_{AB} = \\frac{1}{2}\n",
    "\\begin{bmatrix}\n",
    "      1 & 0 & 0 & 0\\\\\n",
    "      0 & 0 & 0 & 0\\\\\n",
    "      0 & 0 & 0 & 0\\\\\n",
    "      0 & 0 & 0 & 1\n",
    "\\end{bmatrix}\n",
    "$$\n",
    "\n",
    "and therefore $\\rho_{AB}$ has eigenvalues: {1/2, 0, 0, 1/2}.\n",
    "Therefore\n",
    "$S_{AB} = -\\frac{1}{2} \\log_2 (\\frac{1}{2}) - \\frac{1}{2} \\log_2 (\\frac{1}{2}) = 1 = S_C$"
   ]
  },
  {
   "cell_type": "code",
   "execution_count": null,
   "metadata": {
    "collapsed": true
   },
   "outputs": [],
   "source": []
  }
 ],
 "metadata": {
  "hide_input": false,
  "kernelspec": {
   "display_name": "Python 2",
   "language": "python",
   "name": "python2"
  },
  "language_info": {
   "codemirror_mode": {
    "name": "ipython",
    "version": 2
   },
   "file_extension": ".py",
   "mimetype": "text/x-python",
   "name": "python",
   "nbconvert_exporter": "python",
   "pygments_lexer": "ipython2",
   "version": "2.7.12"
  },
  "latex_envs": {
   "bibliofile": "biblio.bib",
   "cite_by": "apalike",
   "current_citInitial": 1,
   "eqLabelWithNumbers": true,
   "eqNumInitial": 0
  },
  "nav_menu": {},
  "toc": {
   "navigate_menu": true,
   "number_sections": true,
   "sideBar": true,
   "threshold": 6,
   "toc_cell": false,
   "toc_section_display": "block",
   "toc_window_display": true
  }
 },
 "nbformat": 4,
 "nbformat_minor": 0
}
