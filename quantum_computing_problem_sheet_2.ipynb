{
 "cells": [
  {
   "cell_type": "markdown",
   "metadata": {},
   "source": [
    "# Problem sheet 2"
   ]
  },
  {
   "cell_type": "markdown",
   "metadata": {},
   "source": [
    "## Problem 1"
   ]
  },
  {
   "cell_type": "markdown",
   "metadata": {},
   "source": [
    "$\\newcommand{\\ket}[1]{\\left|{#1}\\right\\rangle}$\n",
    "$\\newcommand{\\bra}[1]{\\left\\langle{#1}\\right|}$\n",
    "Alice and Bob believe that they're sharing the state $\\ket{\\psi^+} = ( \\ket{01} + \\ket{10}) / \\sqrt{2}\\,$. However, due to unwanted noise, they actually share the mixed state\n",
    "$$\n",
    "\\rho_{AB} = p\\ket{00}\\bra{00} + (1-p)\\ket{\\psi^+}\\bra{\\psi^+},\n",
    "$$\n",
    "where $0\\leq p \\leq1$. They implement a standard quantum teleportation protocol, with shared resource $\\rho_{AB}$ instead of $\\ket{\\psi^+}$. Determine the average fidelity of the teleportation protocol, defined as the overlap $\\bra{v}\\rho_{out}\\ket{v}$ between input and output states, averaged over the four possible measurement outcomes, for generic pure input state $\\ket{v} = \\alpha\\ket{0} + \\beta\\ket{1}$ with $|\\alpha|^2 + |\\beta|^2 =1$."
   ]
  },
  {
   "cell_type": "markdown",
   "metadata": {},
   "source": [
    "## Solution 1"
   ]
  },
  {
   "cell_type": "markdown",
   "metadata": {},
   "source": [
    "Let's recap the standard teleportation protocol:\n",
    "\n",
    "1. Alice and Bob share an entangled pair of qubits (in this case they believe this to be $\\ket{\\psi^+}$).  <br><br>\n",
    "\n",
    "2. Alice performs a joined Bell state measurement on the input state $\\ket{v}$ and her qubit of the entangled pair. If the entangled pair was indeed $\\ket{\\psi^+}$, the outcome of this measurement would be one of the four Bell states ($\\ket{\\psi^+},\\ket{\\psi^-},\\ket{\\phi^+},\\ket{\\phi^-}$).<br><br>\n",
    "3. Alice sends a classical message to Bob, saying which of the Bell states she got.<br><br>\n",
    "4. Bob applies a unitary transformation to his (collapsed) qubit of the entangled pair, depending on the results of Alice's measurement. The result of this transformation is that Bob's qubit is now in the input state, $\\ket{v}$.\n",
    "Bob can use this table to figure out which unitary transformation (gate) he should apply given the bits he received from Alice. \n",
    "\n",
    "| Alice measures | Bob receives  | Gate to be applied |\n",
    "|----------------|---------------|--------------------|\n",
    "| $\\ket{\\psi^+}$ | 00            | I                  |\n",
    "| $\\ket{\\phi^+}$ | 01            | X                  |\n",
    "| $\\ket{\\psi^-}$ | 10            | Z                  |\n",
    "| $\\ket{\\phi^-}$ | 11            | ZX                 |"
   ]
  },
  {
   "cell_type": "markdown",
   "metadata": {},
   "source": [
    "We can label the Bell states that are the result of Alice's measurement as $\\ket{\\varphi_j}$ with $j=\\{1,2,3,4\\}$ and the corresponding gates as the unitary operators $U_j$ as shown below:\n",
    "\n",
    "| Alice measures | Bell state        |  Unitary operator |\n",
    "|----------------|-------------------|-------------------|\n",
    "| $\\ket{\\psi^+}$ | $\\ket{\\varphi_1}$ |  $U_1$            |\n",
    "| $\\ket{\\phi^+}$ | $\\ket{\\varphi_2}$ |  $U_2$            |\n",
    "| $\\ket{\\psi^-}$ | $\\ket{\\varphi_3}$ |  $U_3$            |\n",
    "| $\\ket{\\phi^-}$ | $\\ket{\\varphi_4}$ |  $U_4$            |"
   ]
  },
  {
   "cell_type": "markdown",
   "metadata": {},
   "source": [
    "Now Alice measures the state $\\ket{\\varphi_j}$ with probability $\\mathrm{Tr}\\bra{\\varphi_j}\\rho\\ket{\\varphi_j}$, and the result of Bob applying gate $U_j$ to his collapsed half of the entangled pair would be $U_j\\bra{\\varphi_j}\\rho\\ket{\\varphi_j}U_j^\\dagger$"
   ]
  },
  {
   "cell_type": "markdown",
   "metadata": {},
   "source": [
    "So if we average over all measurement outcomes, $j$, we get the final state:\n",
    "\n",
    "$$\n",
    "\\begin{align}\n",
    "\\rho_{out} &= \\sum_{j=1}^4 \\mathrm{Tr}\\bra{\\varphi_j}\\rho\\ket{\\varphi_j}\n",
    "                           \\frac{U_j\\bra{\\varphi_j}\\rho\\ket{\\varphi_j}U_j^\\dagger}\n",
    "                                {\\mathrm{Tr}\\bra{\\varphi_j}\\rho\\ket{\\varphi_j}}\\\\\n",
    "          &=\\sum_{j=1}^4 U_j\\bra{\\varphi_j}\\rho\\ket{\\varphi_j}U_j^\\dagger\\\\\n",
    "          &=\\sum_{j=1}^4 \n",
    "              U_j\\bra{\\varphi_j}\n",
    "                  (\\rho_{AB}\\otimes\\ket{v}\\bra{v})\n",
    "              \\ket{\\varphi_j}U_j^\\dagger\\\\\n",
    "          &=\\sum_{j=1}^4 p\n",
    "              U_j\\bra{\\varphi_j}\n",
    "                \\big (\\ket{00}\\bra{00}\\otimes\\ket{v}\\bra{v}\\big ) \n",
    "              \\ket{\\varphi_j}U_j^\\dagger\\\\\n",
    "              &+ \\sum_{j=1}^4 (1-p)\n",
    "              U_j\\bra{\\varphi_j}\n",
    "                 \\big (\\ket{\\psi^+}\\bra{\\psi^+}\\otimes\\ket{v}\\bra{v}\\big )\n",
    "              \\ket{\\varphi_j}U_j^\\dagger\n",
    "\\end{align}\n",
    "$$"
   ]
  },
  {
   "cell_type": "markdown",
   "metadata": {},
   "source": [
    "If the initial shared resource was $\\ket{\\psi^+}\\bra{\\psi^+}$, then we know that Bob's final state will always be $\\ket{v}$ (as this would be standard quantum teleportation). \n",
    "\n",
    "That is to say:\n",
    "\n",
    "$$\n",
    "\\sum_{j=1}^4 (1-p)\n",
    "              U_j\\bra{\\varphi_j}\n",
    "                 \\big (\\ket{\\psi^+}\\bra{\\psi^+}\\otimes\\ket{v}\\bra{v}\\big )\n",
    "              \\ket{\\varphi_j}U_j^\\dagger = (1-p) \\ket{v}\\bra{v}\n",
    "$$"
   ]
  },
  {
   "cell_type": "markdown",
   "metadata": {},
   "source": [
    "If the initial shared resource was $\\ket{00}\\bra{00}$, then we know that Bob's state after Alice's measurement would always be $\\ket{0}$. Let us then consider what Bob's final state would be in this case, after he applies the gate as prescribed in the table above.\n",
    "\n",
    "|Alice measures     |Probability |Bob's collapsed state|Unitary operator   |Bob final state |\n",
    "|-------------------|----------------|----------------|-------------------|----------------|\n",
    "| $\\ket{\\varphi_1}$ |$|\\beta|^2/2$ | $\\ket{0}$ |$\\Bbb{I} $        |+$\\ket{0}$ |\n",
    "| $\\ket{\\varphi_2}$ |$|\\alpha|^2/2$ | $\\ket{0}$ |$\\sigma_x$        |+$\\ket{1}$ |\n",
    "| $\\ket{\\varphi_3}$ |$|\\beta|^2/2$ | $\\ket{0}$ |$\\sigma_z$        |+$\\ket{0}$ |\n",
    "| $\\ket{\\varphi_4}$ |$|\\alpha|^2/2$ | $\\ket{0}$ |$\\sigma_z\\sigma_x$|-$\\ket{1}$ |\n",
    "\n",
    "`TODO` understand where the probabilities come from..."
   ]
  },
  {
   "cell_type": "markdown",
   "metadata": {},
   "source": [
    "When we sum up these possible outcomes we get:\n",
    "\n",
    "$$\n",
    "\\begin{align}\n",
    "\\sum_{j=1}^4\n",
    "  U_j\\bra{\\varphi_j}\n",
    "        \\big (\\ket{00}\\bra{00}\\otimes\\ket{v}\\bra{v}\\big ) \n",
    "  \\ket{\\varphi_j}U_j^\\dagger &=\n",
    "\\frac{|\\beta|^2}{2}\\ket{0}\\bra{0} + \\frac{|\\beta|^2}{2}\\ket{0}\\bra{0} + \n",
    "\\frac{|\\alpha|^2}{2}\\ket{1}\\bra{1} + \\frac{|\\alpha|^2}{2}\\ket{1}\\bra{1}\\\\\n",
    "&= |\\beta|^2\\ket{0}\\bra{0} + |\\alpha|^2\\ket{1}\\bra{1}\n",
    "\\end{align}\n",
    "$$"
   ]
  },
  {
   "cell_type": "markdown",
   "metadata": {},
   "source": [
    "Combining the cases where the shared resource was $\\ket{\\psi^+}$ and where the shared resource was $\\ket{00}$, we get the actual average final state to be:\n",
    "\n",
    "$$\n",
    "\\rho_{out} = p|\\beta|^2\\ket{0}\\bra{0} + p|\\alpha|^2\\ket{1}\\bra{1} + (1-p)\\ket{v}\\bra{v}.\n",
    "$$\n",
    "\n",
    "The fidelity, $\\bar{F}=\\bra{v}\\rho_{out}\\ket{v}$, is therefore:\n",
    "\n",
    "$$\n",
    "\\begin{align}\n",
    "\\bar{F} &= p|\\beta|^2\\langle v \\ket{0}\\bra{0} v \\rangle\n",
    "         + p|\\alpha|^2 \\langle v \\ket{1}\\bra{1} v \\rangle \n",
    "         + (1-p) \\langle v \\ket{v}\\bra{v} v \\rangle \\\\\n",
    "        &= p|\\beta|^2|\\alpha|^2\n",
    "         + p|\\alpha|^2 |\\beta|^2\n",
    "         + 1-p\\\\\n",
    "        &= 1 + 2p|\\beta|^2|\\alpha|^2 - p\n",
    "\\end{align}\n",
    "$$"
   ]
  },
  {
   "cell_type": "markdown",
   "metadata": {},
   "source": [
    "## Problem 2"
   ]
  },
  {
   "cell_type": "markdown",
   "metadata": {},
   "source": [
    "Alice intends to send Bob the secret key\n",
    "$$01101001$$\n",
    "using the BB84 protocol. Her random number generator determines the following sequence of bases:\n",
    "$$\\sigma_x\\sigma_x\\sigma_x\\sigma_z\\sigma_z\\sigma_x\\sigma_z\\sigma_z.$$\n",
    "a) What states must Alice prepare and transmit to Bob?\n",
    "\n",
    "b) Suppose that, during the transmission, the qubits are subjected to a noisy channel with Kraus operators\n",
    "\n",
    "$$\n",
    "L_0 = (\\Bbb{I} + \\sigma_z)/(2\\sqrt{2}),\\,\\,\\, L_1 = (\\Bbb{I} + \\sigma_z)/(2\\sqrt{2}) +(\\Bbb{I} - \\sigma_z)/2.\n",
    "$$\n",
    "\n",
    "Determine the probability of error, $p_{err}$, in Bob’s read-out due to such noise (only consider cases where Bob measures in the same basis as Alice’s preparation one)."
   ]
  },
  {
   "cell_type": "markdown",
   "metadata": {},
   "source": [
    "## Solution 2"
   ]
  },
  {
   "cell_type": "markdown",
   "metadata": {},
   "source": [
    "### a."
   ]
  },
  {
   "cell_type": "markdown",
   "metadata": {},
   "source": [
    "$$\\ket{+},\\,\\ket{-},\\,\\ket{-},\\,\\ket{0},\\,\n",
    " \\ket{1},\\,\\ket{+},\\,\\ket{0},\\,\\ket{1}$$"
   ]
  },
  {
   "cell_type": "markdown",
   "metadata": {},
   "source": [
    "### b."
   ]
  },
  {
   "cell_type": "markdown",
   "metadata": {},
   "source": [
    "Let's try out `sympy`'s qubit abilities to examine the effect of the Kraus operators on each of these states."
   ]
  },
  {
   "cell_type": "code",
   "execution_count": 220,
   "metadata": {
    "collapsed": true
   },
   "outputs": [],
   "source": [
    "from sympy.physics.quantum.qubit import Qubit, qubit_to_matrix, matrix_to_qubit, matrix_to_density\n",
    "from sympy.physics.quantum.dagger import Dagger\n",
    "from sympy.physics.quantum import represent"
   ]
  },
  {
   "cell_type": "code",
   "execution_count": 174,
   "metadata": {
    "collapsed": false
   },
   "outputs": [],
   "source": [
    "one   = Qubit(1)\n",
    "zero  = Qubit(0)\n",
    "plus  = (zero + one)/sqrt(2)\n",
    "minus = (zero - one)/sqrt(2)\n"
   ]
  },
  {
   "cell_type": "markdown",
   "metadata": {},
   "source": [
    "The Pauli matrices are:"
   ]
  },
  {
   "cell_type": "code",
   "execution_count": 73,
   "metadata": {
    "collapsed": false
   },
   "outputs": [],
   "source": [
    "from sympy.physics.quantum.pauli import SigmaX, SigmaY, SigmaZ\n",
    "from sympy.physics.quantum.operator import IdentityOperator"
   ]
  },
  {
   "cell_type": "code",
   "execution_count": 189,
   "metadata": {
    "collapsed": false
   },
   "outputs": [],
   "source": [
    "sx = SigmaX()\n",
    "sy = SigmaY()\n",
    "sz = SigmaZ()\n",
    "iden = IdentityOperator(2)\n"
   ]
  },
  {
   "cell_type": "markdown",
   "metadata": {},
   "source": [
    "The Kraus operators are:"
   ]
  },
  {
   "cell_type": "code",
   "execution_count": 218,
   "metadata": {
    "collapsed": false
   },
   "outputs": [],
   "source": [
    "L0 = (iden + sz)/(2*sqrt(2))\n",
    "L1 = (iden + sz)/(2*sqrt(2)) + (iden - sz)/2"
   ]
  },
  {
   "cell_type": "markdown",
   "metadata": {},
   "source": [
    "The effects on the four states are:"
   ]
  },
  {
   "cell_type": "markdown",
   "metadata": {},
   "source": [
    "`1.` $L_0\\ket{0}\\bra{0}L_0^\\dagger + L_1\\ket{0}\\bra{0}L_1^\\dagger$"
   ]
  },
  {
   "cell_type": "code",
   "execution_count": 219,
   "metadata": {
    "collapsed": false
   },
   "outputs": [
    {
     "data": {
      "text/latex": [
       "$$\\left ( {\\left|0\\right\\rangle }, \\quad 1\\right )$$"
      ],
      "text/plain": [
       "(❘0⟩, 1)"
      ]
     },
     "execution_count": 219,
     "metadata": {},
     "output_type": "execute_result"
    }
   ],
   "source": [
    "temp = L0*zero*Dagger(zero)*Dagger(L0) + L1*zero*Dagger(zero)*Dagger(L1)\n",
    "# simplify(qubit_to_matrix(temp))\n",
    "matrix_to_density(simplify(qubit_to_matrix(temp)))"
   ]
  },
  {
   "cell_type": "markdown",
   "metadata": {},
   "source": [
    "This notation means the resulting state is simply $\\ket{0}$"
   ]
  },
  {
   "cell_type": "markdown",
   "metadata": {},
   "source": [
    "`2.` $L_0\\ket{1}\\bra{1}L_0^\\dagger + L_1\\ket{1}\\bra{1}L_1^\\dagger$"
   ]
  },
  {
   "cell_type": "code",
   "execution_count": 198,
   "metadata": {
    "collapsed": false
   },
   "outputs": [
    {
     "data": {
      "text/latex": [
       "$$\\left ( {\\left|1\\right\\rangle }, \\quad 1\\right )$$"
      ],
      "text/plain": [
       "(❘1⟩, 1)"
      ]
     },
     "execution_count": 198,
     "metadata": {},
     "output_type": "execute_result"
    }
   ],
   "source": [
    "temp = L0*one*Dagger(one)*Dagger(L0) + L1*one*Dagger(one)*Dagger(L1)\n",
    "den = matrix_to_density(simplify(qubit_to_matrix(temp)))\n",
    "den"
   ]
  },
  {
   "cell_type": "markdown",
   "metadata": {},
   "source": [
    "`3.` $L_0\\ket{+}\\bra{+}L_0^\\dagger + L_1\\ket{+}\\bra{+}L_1^\\dagger$"
   ]
  },
  {
   "cell_type": "code",
   "execution_count": 216,
   "metadata": {
    "collapsed": false
   },
   "outputs": [
    {
     "name": "stdout",
     "output_type": "stream",
     "text": [
      "Density((-|0> + |1>, -sqrt(2)/4 + 1/2),(|0> + |1>, sqrt(2)/4 + 1/2))\n"
     ]
    }
   ],
   "source": [
    "temp = L0*plus*Dagger(plus)*Dagger(L0) + L1*plus*Dagger(plus)*Dagger(L1)\n",
    "# simplify(qubit_to_matrix(temp))\n",
    "den = matrix_to_density(simplify(qubit_to_matrix(temp)))\n",
    "print den"
   ]
  },
  {
   "cell_type": "markdown",
   "metadata": {},
   "source": [
    "`4.` $L_0\\ket{-}\\bra{-}L_0^\\dagger + L_1\\ket{-}\\bra{-}L_1^\\dagger$"
   ]
  },
  {
   "cell_type": "code",
   "execution_count": 215,
   "metadata": {
    "collapsed": false
   },
   "outputs": [
    {
     "name": "stdout",
     "output_type": "stream",
     "text": [
      "Density((|0> + |1>, -sqrt(2)/4 + 1/2),(-|0> + |1>, sqrt(2)/4 + 1/2))\n"
     ]
    }
   ],
   "source": [
    "temp = L0*minus*Dagger(minus)*Dagger(L0) + L1*minus*Dagger(minus)*Dagger(L1)\n",
    "simplify(qubit_to_matrix(temp))\n",
    "den = matrix_to_density(simplify(qubit_to_matrix(temp)))\n",
    "print den"
   ]
  },
  {
   "cell_type": "markdown",
   "metadata": {},
   "source": [
    "To summarise:\n",
    "\n",
    "$$\n",
    "\\begin{align}\n",
    "\\ket{0}\\bra{0} & \\mapsto  \\ket{0}\\bra{0},  \\\\\n",
    "\\ket{1}\\bra{1} & \\mapsto  \\ket{1}\\bra{1},  \\\\\n",
    "\\ket{+}\\bra{+} & \\mapsto  \\frac{2+\\sqrt{2}}{4}\\ket{+}\\bra{+} \\frac{2-\\sqrt{2}}{4}\\ket{-}\\bra{-},  \\\\\n",
    "\\ket{-}\\bra{-} & \\mapsto  \\frac{2-\\sqrt{2}}{4}\\ket{+}\\bra{+} \\frac{2+\\sqrt{2}}{4}\\ket{-}\\bra{-}.  \n",
    "\\end{align}\n",
    "$$"
   ]
  },
  {
   "cell_type": "markdown",
   "metadata": {},
   "source": [
    "So the $\\ket{0}\\bra{0}$ and $\\ket{1}\\bra{1}$ states are not affected by this noise. i.e. they have zero probability of erring.\n",
    "\n",
    "The probability that the $\\ket{+}\\bra{+}$ or the $\\ket{-}\\bra{-}$ states change as a result of the noise is: $\\frac{2-2\\sqrt{4}}{4}$. If we assume that in a given string, all four states appear with equal probability (1/4), the overall probability would be:\n",
    "\n",
    "$$\n",
    "p_{err} = 0\\frac{1}{4} + 0\\frac{1}{4} + \\frac{2-2\\sqrt{2}}{4}\\frac{1}{4} + \\frac{2-2\\sqrt{2}}{4}\\frac{1}{4} = \\frac{2-2\\sqrt{2}}{8}\\approx 0.073\n",
    "$$"
   ]
  }
 ],
 "metadata": {
  "hide_input": false,
  "kernelspec": {
   "display_name": "Python 2",
   "language": "python",
   "name": "python2"
  },
  "language_info": {
   "codemirror_mode": {
    "name": "ipython",
    "version": 2
   },
   "file_extension": ".py",
   "mimetype": "text/x-python",
   "name": "python",
   "nbconvert_exporter": "python",
   "pygments_lexer": "ipython2",
   "version": "2.7.12"
  },
  "nav_menu": {},
  "toc": {
   "navigate_menu": true,
   "number_sections": true,
   "sideBar": true,
   "threshold": 6,
   "toc_cell": false,
   "toc_section_display": "block",
   "toc_window_display": false
  }
 },
 "nbformat": 4,
 "nbformat_minor": 0
}
